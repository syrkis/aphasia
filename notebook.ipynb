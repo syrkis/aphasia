{
 "cells": [
  {
   "cell_type": "code",
   "execution_count": 2,
   "metadata": {},
   "outputs": [],
   "source": [
    "import jax\n",
    "import jax.numpy as jnp\n",
    "from jax import grad, jit, vmap\n",
    "import optax\n",
    "from jax.tree_util import tree_flatten, tree_unflatten\n",
    "from functools import partial\n",
    "import os\n",
    "import requests\n",
    "\n",
    "\n",
    "import numpy as np\n",
    "import os\n",
    "from tqdm import tqdm\n",
    "from string import ascii_letters, digits, punctuation, whitespace\n",
    "import time\n",
    "\n",
    "import syrkis\n",
    "from src.model import init_fn, apply_fn, loss_fn"
   ]
  },
  {
   "cell_type": "code",
   "execution_count": 207,
   "metadata": {},
   "outputs": [],
   "source": [
    "rng = jax.random.PRNGKey(0)"
   ]
  },
  {
   "cell_type": "code",
   "execution_count": 244,
   "metadata": {},
   "outputs": [],
   "source": [
    "block_size = 12\n",
    "batch_size = 32\n",
    "n_embed = 128\n",
    "n_heads = 4\n",
    "n_layers = 4\n",
    "evaluation_frequency = 100\n",
    "evaluation_size = batch_size * 10"
   ]
  },
  {
   "cell_type": "code",
   "execution_count": 279,
   "metadata": {},
   "outputs": [],
   "source": [
    "with open('conrad.txt', 'r') as f:\n",
    "    text = f.read()"
   ]
  },
  {
   "cell_type": "code",
   "execution_count": 283,
   "metadata": {},
   "outputs": [
    {
     "name": "stdout",
     "output_type": "stream",
     "text": [
      "Number of characters: 6656422\n",
      "Number of unique characters: 99\n"
     ]
    }
   ],
   "source": [
    "chars = sorted(list(set(text)))\n",
    "vocab_size = len(chars)\n",
    "\n",
    "print(f'Number of characters: {len(text)}')\n",
    "print(f'Number of unique characters: {len(chars)}')"
   ]
  },
  {
   "cell_type": "code",
   "execution_count": 284,
   "metadata": {},
   "outputs": [],
   "source": [
    "c2i = {c: i for i, c in enumerate(chars)}\n",
    "i2c = {i: c for i, c in enumerate(chars)}\n",
    "encode = lambda x: [c2i[c] for c in x]\n",
    "decode = lambda x: ''.join([i2c[i] for i in x])"
   ]
  },
  {
   "cell_type": "code",
   "execution_count": 285,
   "metadata": {},
   "outputs": [],
   "source": [
    "data = jnp.array(encode(text))\n",
    "n = int(len(data) * 0.8)\n",
    "train_data = data[:n]\n",
    "val_data = data[n:]"
   ]
  },
  {
   "cell_type": "code",
   "execution_count": 286,
   "metadata": {},
   "outputs": [],
   "source": [
    "def get_batches(rng, split, buffer=128):\n",
    "    data = train_data if split == 'train' else val_data\n",
    "    while True:\n",
    "        rng, key = jax.random.split(rng)\n",
    "        idxs = jax.random.randint(key, (buffer, batch_size), 0, len(data) - block_size)\n",
    "        for i in range(buffer):\n",
    "            idx = idxs[i][:, None] + jnp.arange(block_size)\n",
    "            batch = data[idx]\n",
    "            xb, yb = batch[:, :-1], batch[:, 1:]\n",
    "            yield xb, yb"
   ]
  },
  {
   "cell_type": "code",
   "execution_count": 287,
   "metadata": {},
   "outputs": [],
   "source": [
    "def head_fn(params, x):\n",
    "    x = [head_apply_fn(params['head'][f'head_{i}'], x) for i in range(len(params['head']))]\n",
    "    x = jnp.concatenate(x, axis=-1)\n",
    "    x = jnp.dot(x, params['proj'])\n",
    "    return x\n",
    "\n",
    "def head_apply_fn(params, x):\n",
    "    B, T, C = x.shape\n",
    "    tril = jnp.nan_to_num(jnp.absolute(jnp.tril(jnp.ones((T, T))) - 1) * (-jnp.inf), nan=0)\n",
    "    # mask = jnp.nan_to_num(jnp.triu(jnp.ones((T, T))) * (-jnp.inf), nan=0)\n",
    "    H = params['key'].shape[1]\n",
    "    k = jnp.dot(x, params['key'])       # B x T x H\n",
    "    q = jnp.dot(x, params['query'])     # B x T x H\n",
    "    wei = q @ k.transpose(0, 2, 1)      # B x T x T\n",
    "    wei /= jnp.sqrt(H)                  # normalise\n",
    "    wei += tril                         # mask future\n",
    "    wei = jax.nn.softmax(wei, axis=-1)  # B x T x T\n",
    "    v = jnp.dot(x, params['value'])     # B x T x H\n",
    "    out = wei @ v                       # B x T x H\n",
    "    return out\n",
    "\n",
    "def init_head_fn(rng, n_embed, n_heads, scale=1e-2):\n",
    "    head_size = n_embed // n_heads\n",
    "    rng, key_key, key_value, key_query = jax.random.split(rng, 4)\n",
    "    params = {} \n",
    "    for i in range(n_heads):\n",
    "        params[f'head_{i}'] = {\n",
    "            'key':   jax.random.normal(key_key,   shape=(n_embed, head_size)) * scale,\n",
    "            'value': jax.random.normal(key_value, shape=(n_embed, head_size)) * scale,\n",
    "            'query': jax.random.normal(key_query, shape=(n_embed, head_size)) * scale,\n",
    "            }\n",
    "    return params"
   ]
  },
  {
   "cell_type": "code",
   "execution_count": 288,
   "metadata": {},
   "outputs": [],
   "source": [
    "def ffwd_fn(params, x):\n",
    "    out = jax.nn.relu(x @ params['dense1'] + params['bias1'])\n",
    "    out = out @ params['dense2'] + params['bias2']\n",
    "    return out\n",
    "\n",
    "def init_ffwd_fn(rng, n_embed, scale=1e-2):\n",
    "    rng, key1, key2 = jax.random.split(rng, 3)\n",
    "    params = {\n",
    "        'dense1': jax.random.normal(key1, shape=(n_embed, 4 * n_embed)) * scale,\n",
    "        'bias1': jax.random.normal(key1, shape=(4 * n_embed,)) * scale,\n",
    "        'dense2': jax.random.normal(key2, shape=(4 * n_embed, n_embed)) * scale,\n",
    "        'bias2': jax.random.normal(key2, shape=(n_embed,)) * scale,\n",
    "        }\n",
    "    return params"
   ]
  },
  {
   "cell_type": "code",
   "execution_count": 289,
   "metadata": {},
   "outputs": [],
   "source": [
    "def layer_norm_fn(params, x, eps=1e-5):\n",
    "    gamma, beta = params['gamma'], params['beta']\n",
    "    mean = jnp.mean(x, axis=-1, keepdims=True)\n",
    "    std = jnp.std(x, axis=-1, keepdims=True)\n",
    "    out = (x - mean) / (std + eps)\n",
    "    out = out * gamma + beta\n",
    "    return out\n",
    "\n",
    "def init_layer_norm_fn(n_embed):\n",
    "    params = {\n",
    "        'gamma': jnp.ones((n_embed,)),\n",
    "        'beta': jnp.zeros((n_embed,)),\n",
    "        }\n",
    "    return params"
   ]
  },
  {
   "cell_type": "code",
   "execution_count": 290,
   "metadata": {},
   "outputs": [],
   "source": [
    "def init_block_fn(rng, n_embed, n_heads, scale=1e-2):\n",
    "    rng, key1, key2, key3, key4, key5 = jax.random.split(rng, 6)\n",
    "    params = {\n",
    "        'head': init_head_fn(key1, n_embed, n_heads, scale),\n",
    "        'ffwd': init_ffwd_fn(key2, n_embed, scale),\n",
    "        'proj': jax.random.normal(key3, shape=(n_embed, n_embed)) * scale,\n",
    "        'ln1': init_layer_norm_fn(n_embed),\n",
    "        'ln2': init_layer_norm_fn(n_embed),\n",
    "        }\n",
    "    return params\n",
    "\n",
    "def block_fn(params, x):\n",
    "    x = layer_norm_fn(params['ln1'], x)\n",
    "    x += head_fn(params, x)\n",
    "    x = layer_norm_fn(params['ln2'], x)\n",
    "    x += ffwd_fn(params['ffwd'], x)\n",
    "    return x"
   ]
  },
  {
   "cell_type": "code",
   "execution_count": 291,
   "metadata": {},
   "outputs": [],
   "source": [
    "def apply_fn(params, xb):\n",
    "    B, T = xb.shape\n",
    "    tok_embs = params['tok_embedding'][xb]              # B x T x C\n",
    "    pos_embs = params['pos_embedding'][jnp.arange(T)]   # T x C\n",
    "    x = tok_embs + pos_embs\n",
    "    for block in params['blocks']:\n",
    "        x = block_fn(block, x)\n",
    "    x = layer_norm_fn(params['layer_norm'], x)\n",
    "    logits = x @ params['lm_head']                 # B x T x V\n",
    "    return logits\n",
    "\n",
    "\n",
    "def init_fn(rng, n_embed, n_heads, scale=1e-2):\n",
    "    rng, key1, key2, key3, key4, key5 = jax.random.split(rng, 6)\n",
    "    params = {\n",
    "        'tok_embedding': jax.random.normal(key1, shape=(vocab_size, n_embed)) * scale,\n",
    "        'pos_embedding': jax.random.normal(key2, shape=(block_size, n_embed)) * scale,\n",
    "        'lm_head': jax.random.normal(key3, shape=(n_embed, vocab_size)) * scale,\n",
    "        'blocks': [init_block_fn(key1, n_embed, n_heads, scale=scale) for _ in range(n_layers)],\n",
    "        'layer_norm': init_layer_norm_fn(n_embed),\n",
    "        }\n",
    "\n",
    "    return params\n",
    "\n",
    "\n",
    "def loss_fn(params, xb, yb):\n",
    "    # we cant to minimise cross entropy\n",
    "    logits = apply_fn(params, xb) # B x T x C\n",
    "    B, T, C = logits.shape\n",
    "    yb = yb.reshape(-1)\n",
    "    logits = logits.reshape(B * T, C)\n",
    "    logits = jnp.clip(logits, -100, 100)\n",
    "    loss = jnp.mean(optax.softmax_cross_entropy(logits, jax.nn.one_hot(yb, C)))\n",
    "    return loss\n",
    "\n",
    "    \n",
    "def generate_fn(rng, params, idx, length=100, temperature=1.0):\n",
    "    for _ in tqdm(range(length)):\n",
    "        rng, key = jax.random.split(rng)\n",
    "        logits = apply_fn(params, idx[:, -block_size:])         # B x T x C\n",
    "        logits = logits[:, -1, :] / temperature                 # B x C\n",
    "        idx_new = jax.random.categorical(key, logits)[:, None]  # B x 1\n",
    "        idx = jnp.concatenate([idx, idx_new], axis=1)           # B x T + 1\n",
    "    return idx\n",
    "\n",
    "\n",
    "grad_fn = jit(jax.value_and_grad(loss_fn))\n",
    "\n",
    "def update_fn(optimizer, opt_state, params, xb, yb, clip_value=1.0):\n",
    "    loss, grads = grad_fn(params, xb, yb)\n",
    "    updates, opt_state = optimizer.update(grads, opt_state, params)\n",
    "    params = optax.apply_updates(params, updates)\n",
    "    return opt_state, params, loss\n"
   ]
  },
  {
   "cell_type": "code",
   "execution_count": 292,
   "metadata": {},
   "outputs": [
    {
     "name": "stdout",
     "output_type": "stream",
     "text": [
      "n_params: 818176\n"
     ]
    }
   ],
   "source": [
    "rng, key = jax.random.split(rng)\n",
    "batches = get_batches(rng, 'train')\n",
    "params = init_fn(key, n_embed, n_heads)\n",
    "print('n_params:', syrkis.training.n_params(params))\n",
    "opt = optax.adamw(1e-3)\n",
    "update = jit(partial(update_fn, opt))\n",
    "opt_state = opt.init(params)"
   ]
  },
  {
   "cell_type": "code",
   "execution_count": 299,
   "metadata": {},
   "outputs": [
    {
     "name": "stderr",
     "output_type": "stream",
     "text": [
      "loss: 1.725: 100%|██████████| 5000/5000 [02:30<00:00, 33.23it/s]\n"
     ]
    }
   ],
   "source": [
    "pbar = tqdm(range(5000))\n",
    "for step in pbar:\n",
    "    rng, key = jax.random.split(rng)\n",
    "    xb, yb = next(batches)\n",
    "    opt_state, params, loss = update(opt_state, params, xb, yb)\n",
    "    pbar.set_description(f'loss: {loss:.3f}')"
   ]
  },
  {
   "cell_type": "code",
   "execution_count": 301,
   "metadata": {},
   "outputs": [
    {
     "name": "stderr",
     "output_type": "stream",
     "text": [
      "  0%|          | 0/100 [00:00<?, ?it/s]"
     ]
    },
    {
     "name": "stderr",
     "output_type": "stream",
     "text": [
      "100%|██████████| 100/100 [00:09<00:00, 10.69it/s]"
     ]
    },
    {
     "name": "stdout",
     "output_type": "stream",
     "text": [
      "On latitudes this low now grewash, hust, it was\n",
      "the floggg iexplenice shaips uthofung of uthag,\n",
      "there, touge it carelusag\n"
     ]
    },
    {
     "name": "stderr",
     "output_type": "stream",
     "text": [
      "\n"
     ]
    }
   ],
   "source": [
    "seed = 'On latitudes this low'\n",
    "rng, key = jax.random.split(rng)\n",
    "idx = jnp.array(encode(seed))[None, :]\n",
    "print(decode(generate_fn(key, params, idx, length=100)[0].tolist()))"
   ]
  },
  {
   "cell_type": "code",
   "execution_count": null,
   "metadata": {},
   "outputs": [],
   "source": []
  },
  {
   "cell_type": "code",
   "execution_count": null,
   "metadata": {},
   "outputs": [],
   "source": []
  },
  {
   "cell_type": "code",
   "execution_count": null,
   "metadata": {},
   "outputs": [],
   "source": []
  }
 ],
 "metadata": {
  "kernelspec": {
   "display_name": "Python 3",
   "language": "python",
   "name": "python3"
  },
  "language_info": {
   "codemirror_mode": {
    "name": "ipython",
    "version": 3
   },
   "file_extension": ".py",
   "mimetype": "text/x-python",
   "name": "python",
   "nbconvert_exporter": "python",
   "pygments_lexer": "ipython3",
   "version": "3.11.4"
  }
 },
 "nbformat": 4,
 "nbformat_minor": 2
}
