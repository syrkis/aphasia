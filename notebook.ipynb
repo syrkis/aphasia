{
 "cells": [
  {
   "cell_type": "code",
   "execution_count": 1,
   "metadata": {},
   "outputs": [
    {
     "name": "stdout",
     "output_type": "stream",
     "text": [
      "Metal device set to: Apple M1 Pro\n",
      "\n",
      "systemMemory: 16.00 GB\n",
      "maxCacheSize: 5.33 GB\n",
      "\n"
     ]
    },
    {
     "name": "stderr",
     "output_type": "stream",
     "text": [
      "2023-11-14 23:22:37.639366: W pjrt_plugin/src/mps_client.cc:534] WARNING: JAX Apple GPU support is experimental and not all JAX functionality is correctly supported!\n"
     ]
    }
   ],
   "source": [
    "import jax\n",
    "import jax.numpy as jnp\n",
    "from jax import grad, jit, vmap\n",
    "import optax\n",
    "from jax.tree_util import tree_flatten, tree_unflatten\n",
    "from functools import partial\n",
    "import os\n",
    "import requests\n",
    "\n",
    "import numpy as np\n",
    "import os\n",
    "from tqdm import tqdm\n",
    "import time\n",
    "import yaml\n",
    "\n",
    "import syrkis\n",
    "from src.model import init_fn, apply_fn, loss_fn, block_fn, generate_fn\n",
    "from src.data import get_batches, encode, decode\n",
    "from src.train import train_fn\n",
    "\n",
    "import syrkis"
   ]
  },
  {
   "cell_type": "code",
   "execution_count": 2,
   "metadata": {},
   "outputs": [],
   "source": [
    "with open(\"config.yaml\", \"r\") as f:\n",
    "    config = yaml.load(f, Loader=yaml.FullLoader)"
   ]
  },
  {
   "cell_type": "code",
   "execution_count": 3,
   "metadata": {},
   "outputs": [],
   "source": [
    "rng = jax.random.PRNGKey(0)\n",
    "rng, key = jax.random.split(rng)\n",
    "train_batches = get_batches(rng, 'train')\n",
    "eval_batches = get_batches(rng, 'test')"
   ]
  },
  {
   "cell_type": "code",
   "execution_count": 4,
   "metadata": {},
   "outputs": [
    {
     "name": "stdout",
     "output_type": "stream",
     "text": [
      "n_params: 319360\n"
     ]
    }
   ],
   "source": [
    "rng, key = jax.random.split(rng)\n",
    "params = init_fn(key, config)\n",
    "print('n_params:', syrkis.training.n_params(params))\n",
    "opt = optax.adamw(config['lr'])\n",
    "opt_state = opt.init(params)"
   ]
  },
  {
   "cell_type": "code",
   "execution_count": 5,
   "metadata": {},
   "outputs": [
    {
     "name": "stderr",
     "output_type": "stream",
     "text": [
      "train: 1.6354 | eval: 1.6929: 100%|██████████| 2000/2000 [01:52<00:00, 17.70it/s] \n"
     ]
    }
   ],
   "source": [
    "opt_state, params = train_fn(key, opt, opt_state, params, config, train_batches, eval_batches)\n",
    "syrkis.training.save_params(params)\n",
    "# params = syrkis.training.load_params()"
   ]
  },
  {
   "cell_type": "code",
   "execution_count": 11,
   "metadata": {},
   "outputs": [
    {
     "name": "stderr",
     "output_type": "stream",
     "text": [
      "100%|██████████| 1000/1000 [00:27<00:00, 36.57it/s]"
     ]
    },
    {
     "name": "stdout",
     "output_type": "stream",
     "text": [
      "On latitudes this low. That see insamped\n",
      "you till? He’s can the more of men-incantive the adgriddual\n",
      "undlass, ledish alquer away moved to perpress in the\n",
      "few abody. I reltfaant rittion our amonth had stroadelly greating or his stumpor of its and near contron head been\n",
      "things had nushelfory, with linged the nass no been, Riectadion, veryially. And\n",
      "added of the durlied dowithing with been within\n",
      "in their holleeos she ext bight of againer began the foret\n",
      "us, and gentrayon in the fockition round take pity, steppeder I call, Dside butter nothing a finairs with than\n",
      "he Mr Verloc is up upon riftently, she side and matter.  What’s negret, she is\n",
      "defilued its applaying ladies stood Verloc. He fanged-bark the chabbit of\n",
      "sull without contaid her rones show bash happer to\n",
      "the couldred quallness pohed peoplishiture. These hand front safes blowed. He\n",
      "blowed in as ontain\n",
      "the aliutudess and of his uperssions\n",
      "of his mode fact the round accesss of a\n",
      "exignardues he night. Yes, if! It\n",
      "trushed of the kranged as I come samether\n"
     ]
    },
    {
     "name": "stderr",
     "output_type": "stream",
     "text": [
      "\n"
     ]
    }
   ],
   "source": [
    "seed = 'On latitudes this low'\n",
    "rng, key = jax.random.split(rng)\n",
    "idx = jnp.array(encode(seed))[None, :]\n",
    "print(decode(generate_fn(key, params, idx, config['block_size'] // 4, length=1000)[0].tolist()))"
   ]
  },
  {
   "cell_type": "code",
   "execution_count": null,
   "metadata": {},
   "outputs": [],
   "source": []
  }
 ],
 "metadata": {
  "kernelspec": {
   "display_name": "Python 3",
   "language": "python",
   "name": "python3"
  },
  "language_info": {
   "codemirror_mode": {
    "name": "ipython",
    "version": 3
   },
   "file_extension": ".py",
   "mimetype": "text/x-python",
   "name": "python",
   "nbconvert_exporter": "python",
   "pygments_lexer": "ipython3",
   "version": "3.11.4"
  }
 },
 "nbformat": 4,
 "nbformat_minor": 2
}
